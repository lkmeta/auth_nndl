{
  "nbformat": 4,
  "nbformat_minor": 0,
  "metadata": {
    "colab": {
      "name": "ncc_model.ipynb",
      "provenance": [],
      "collapsed_sections": []
    },
    "kernelspec": {
      "name": "python3",
      "display_name": "Python 3"
    },
    "language_info": {
      "name": "python"
    }
  },
  "cells": [
    {
      "cell_type": "code",
      "metadata": {
        "id": "HWecnhWwSjUZ"
      },
      "source": [
        "# Nearest centroid model\n",
        "\n",
        "# Import libraries\n",
        "import keras\n",
        "from keras.datasets import mnist\n",
        "from numpy import mean\n",
        "from numpy import std\n",
        "from sklearn.datasets import make_classification\n",
        "from sklearn.model_selection import cross_val_score\n",
        "from sklearn.model_selection import RepeatedStratifiedKFold\n",
        "from sklearn.neighbors import NearestCentroid"
      ],
      "execution_count": null,
      "outputs": []
    },
    {
      "cell_type": "code",
      "metadata": {
        "id": "4S7Udzq1SnsW"
      },
      "source": [
        "# load datasets\n",
        "(x, y), (x_test, y_test) = keras.datasets.mnist.load_data()\n",
        "X = x.reshape(-1, 28*28)/255.0\n",
        "X_test = x_test.reshape(-1, 28*28)/255.0\n",
        "# print(X.shape)\n",
        "# print(y.shape)\n",
        "# print(X_test.shape)\n",
        "# print(y_test.shape)"
      ],
      "execution_count": null,
      "outputs": []
    },
    {
      "cell_type": "code",
      "metadata": {
        "colab": {
          "base_uri": "https://localhost:8080/"
        },
        "id": "bFlWFS9fS5pl",
        "outputId": "4284b336-6580-49eb-e78a-aad622d99419"
      },
      "source": [
        "metric_name = ['euclidean', 'manhattan']\n",
        "res_dict = {}\n",
        "for metric in metric_name:\n",
        "  # define model\n",
        "  model = NearestCentroid(metric=metric)\n",
        "\n",
        "  # define model evaluation method\n",
        "  cv = RepeatedStratifiedKFold(n_splits=60, n_repeats=5, random_state=1)\n",
        "\n",
        "  # evaluate model\n",
        "  scores = cross_val_score(model, X, y, scoring='accuracy', cv=cv, n_jobs=-1)\n",
        "\n",
        "  name = metric\n",
        "\n",
        "  # summarize result\n",
        "  print(\"Name: \" + name)\n",
        "  print('Mean Accuracy: %.3f (%.3f)' % (mean(scores), std(scores)))\n",
        "\n",
        "  res_dict[name] = mean(scores)"
      ],
      "execution_count": null,
      "outputs": [
        {
          "output_type": "stream",
          "name": "stdout",
          "text": [
            "Name: euclidean\n",
            "Mean Accuracy: 0.807 (0.012)\n",
            "Name: manhattan\n",
            "Mean Accuracy: 0.741 (0.013)\n"
          ]
        }
      ]
    },
    {
      "cell_type": "code",
      "metadata": {
        "colab": {
          "base_uri": "https://localhost:8080/"
        },
        "id": "DaIsiWHATJ2N",
        "outputId": "71ef31e3-117b-4187-b828-a50f5c0fb3dd"
      },
      "source": [
        "# make predictions with a nearest centroid model on the test dataset\n",
        "from sklearn.datasets import make_classification\n",
        "from sklearn.neighbors import NearestCentroid\n",
        "from sklearn.metrics import classification_report\n",
        "\n",
        "# define model\n",
        "model = NearestCentroid()\n",
        "\n",
        "# fit model\n",
        "model.fit(X, y)\n",
        "\n",
        "# make a prediction\n",
        "y_pred = model.predict(X_test)\n",
        "\n",
        "# Printing Accuracy on Training and Test sets\n",
        "print(f\"Training Set Score : {model.score(X, y) * 100} %\")\n",
        "print(f\"Test Set Score : {model.score(X_test, y_test) * 100} %\")\n",
        " \n",
        "# Printing classification report of classifier on the test set set data\n",
        "print(f\"Model Classification Report : \\n{classification_report(y_test, model.predict(X_test))}\")"
      ],
      "execution_count": null,
      "outputs": [
        {
          "output_type": "stream",
          "name": "stdout",
          "text": [
            "Training Set Score : 80.79833333333333 %\n",
            "Test Set Score : 82.03 %\n",
            "Model Classification Report : \n",
            "              precision    recall  f1-score   support\n",
            "\n",
            "           0       0.91      0.90      0.90       980\n",
            "           1       0.77      0.96      0.86      1135\n",
            "           2       0.88      0.76      0.81      1032\n",
            "           3       0.77      0.81      0.78      1010\n",
            "           4       0.80      0.83      0.81       982\n",
            "           5       0.75      0.69      0.72       892\n",
            "           6       0.88      0.86      0.87       958\n",
            "           7       0.91      0.83      0.87      1028\n",
            "           8       0.79      0.74      0.76       974\n",
            "           9       0.77      0.81      0.79      1009\n",
            "\n",
            "    accuracy                           0.82     10000\n",
            "   macro avg       0.82      0.82      0.82     10000\n",
            "weighted avg       0.82      0.82      0.82     10000\n",
            "\n"
          ]
        }
      ]
    }
  ]
}