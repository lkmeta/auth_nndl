{
  "nbformat": 4,
  "nbformat_minor": 0,
  "metadata": {
    "colab": {
      "name": "nn_model.ipynb",
      "provenance": [],
      "collapsed_sections": []
    },
    "kernelspec": {
      "name": "python3",
      "display_name": "Python 3"
    },
    "language_info": {
      "name": "python"
    }
  },
  "cells": [
    {
      "cell_type": "code",
      "metadata": {
        "id": "Uf1FBBEMhnWs"
      },
      "source": [
        "import numpy as np\n",
        "import operator \n",
        "from operator import itemgetter\n",
        "from sklearn.datasets import load_digits\n",
        "from sklearn.model_selection import train_test_split\n",
        "from sklearn.metrics import precision_recall_fscore_support\n",
        "from sklearn.metrics import accuracy_score\n",
        "from mnist import MNIST"
      ],
      "execution_count": null,
      "outputs": []
    },
    {
      "cell_type": "code",
      "metadata": {
        "id": "UmFNTZSviS2b"
      },
      "source": [
        "# The Euclidean Distance between two points\n",
        "def euc_dist(x1, x2):\n",
        "    return np.sqrt(np.sum((x1-x2)**2))\n",
        "\n",
        "# KNN class\n",
        "class KNN:\n",
        "    def __init__(self, K=3):\n",
        "        self.K = K\n",
        "    def fit(self, x_train, y_train):\n",
        "        self.X_train = x_train\n",
        "        self.Y_train = y_train\n",
        "\n",
        "    def predict(self, X_test):\n",
        "        predictions = [] \n",
        "        for i in range(len(X_test)):\n",
        "            dist = np.array([euc_dist(X_test[i], x_t) for x_t in   \n",
        "            self.X_train])\n",
        "            dist_sorted = dist.argsort()[:self.K]\n",
        "            neigh_count = {}\n",
        "            for idx in dist_sorted:\n",
        "                if self.Y_train[idx] in neigh_count:\n",
        "                    neigh_count[self.Y_train[idx]] += 1\n",
        "                else:\n",
        "                    neigh_count[self.Y_train[idx]] = 1\n",
        "            sorted_neigh_count = sorted(neigh_count.items(),    \n",
        "            key = operator.itemgetter(1), reverse=True)\n",
        "            predictions.append(sorted_neigh_count[0][0]) \n",
        "        return predictions"
      ],
      "execution_count": null,
      "outputs": []
    },
    {
      "cell_type": "code",
      "metadata": {
        "colab": {
          "base_uri": "https://localhost:8080/"
        },
        "id": "KCzYKwesiupE",
        "outputId": "9e911e3c-0350-4012-b685-3d0479d48f74"
      },
      "source": [
        "from google.colab import drive\n",
        "drive.mount('/content/drive/')"
      ],
      "execution_count": null,
      "outputs": [
        {
          "output_type": "stream",
          "name": "stdout",
          "text": [
            "Mounted at /content/drive/\n"
          ]
        }
      ]
    },
    {
      "cell_type": "code",
      "metadata": {
        "id": "GjqNLbqzjzyl"
      },
      "source": [
        "# Dataset path\n",
        "mndata = MNIST('/content/drive/My Drive/Colab Notebooks/NN/exer/samples/')"
      ],
      "execution_count": null,
      "outputs": []
    },
    {
      "cell_type": "code",
      "metadata": {
        "colab": {
          "base_uri": "https://localhost:8080/"
        },
        "id": "T8ZgqKH-k-7v",
        "outputId": "7af6d709-7475-4d6e-a452-a55d781775ca"
      },
      "source": [
        "def main():\n",
        "\n",
        "    # mndata = MNIST('/content/drive/My Drive/Colab Notebooks/NN/exer/samples/')\n",
        "    testDataRange = 1000\n",
        "\n",
        "    images, labels = mndata.load_training()\n",
        "    X_train = np.asarray(images) \n",
        "    y_train = np.asarray(labels) \n",
        "\n",
        "    testImages, testLabels = mndata.load_testing()\n",
        "    X_test = np.asarray(testImages) \n",
        "    y_test = np.asarray(testLabels) \n",
        "\n",
        "    print(\"X_train dataset shape: \" + str(X_train.shape) + \"\\t| y_train dataset shape: \"  + str(y_train.shape))\n",
        "    print(\"X_test dataset shape: \" + str(X_test.shape) + \"\\t| y_test dataset shape: \"  + str(y_test.shape))\n",
        "\n",
        "    kVals = [1, 3]\n",
        "    for k in kVals:\n",
        "        model = KNN(K = k)\n",
        "        model.fit(X_train, y_train)\n",
        "        x_test_mini = X_test[0:testDataRange,:]\n",
        "        y_test_mini = y_test[0:testDataRange,]\n",
        "        print(\"\\nChanged test dataset shape\")\n",
        "        print(\"New X_test dataset shape: \" + str(x_test_mini.shape) + \"\\t| New y_test dataset shape: \"  + str(y_test_mini.shape))\n",
        "        pred = model.predict(x_test_mini)\n",
        "        accuracy = accuracy_score(y_test_mini, pred)\n",
        "        print(\"K = \" + str(k)+\" | Accuracy: \" + str(accuracy))\n",
        "\n",
        "if __name__ == \"__main__\":\n",
        "    main() "
      ],
      "execution_count": null,
      "outputs": [
        {
          "output_type": "stream",
          "name": "stdout",
          "text": [
            "X_train dataset shape: (60000, 784)\t| y_train dataset shape: (60000,)\n",
            "X_test dataset shape: (10000, 784)\t| y_test dataset shape: (10000,)\n",
            "\n",
            "Changed test dataset shape\n",
            "New X_test dataset shape: (1000, 784)\t| New y_test dataset shape: (1000,)\n",
            "K = 1 | Accuracy: 0.962\n",
            "\n",
            "Changed test dataset shape\n",
            "New X_test dataset shape: (1000, 784)\t| New y_test dataset shape: (1000,)\n",
            "K = 3 | Accuracy: 0.965\n"
          ]
        }
      ]
    },
    {
      "cell_type": "code",
      "metadata": {
        "colab": {
          "base_uri": "https://localhost:8080/"
        },
        "id": "cICjZGdvrr-e",
        "outputId": "f833d57b-61e6-4ac7-8404-adf6f1ddbd83"
      },
      "source": [
        "def main():\n",
        "\n",
        "    # mndata = MNIST('/content/drive/My Drive/Colab Notebooks/NN/exer/samples/')\n",
        "    testDataRange = 10000\n",
        "\n",
        "    images, labels = mndata.load_training()\n",
        "    X_train = np.asarray(images) \n",
        "    y_train = np.asarray(labels) \n",
        "\n",
        "    testImages, testLabels = mndata.load_testing()\n",
        "    X_test = np.asarray(testImages) \n",
        "    y_test = np.asarray(testLabels) \n",
        "\n",
        "    print(\"X_train dataset shape: \" + str(X_train.shape) + \"\\t| y_train dataset shape: \"  + str(y_train.shape))\n",
        "    print(\"X_test dataset shape: \" + str(X_test.shape) + \"\\t| y_test dataset shape: \"  + str(y_test.shape))\n",
        "\n",
        "    kVals = [1, 3]\n",
        "    for k in kVals:\n",
        "        model = KNN(K = k)\n",
        "        model.fit(X_train, y_train)\n",
        "        x_test_mini = X_test[0:testDataRange,:]\n",
        "        y_test_mini = y_test[0:testDataRange,]\n",
        "        print(\"\\nChanged test dataset shape\")\n",
        "        print(\"New X_test dataset shape: \" + str(x_test_mini.shape) + \"\\t| New y_test dataset shape: \"  + str(y_test_mini.shape))\n",
        "        pred = model.predict(x_test_mini)\n",
        "        accuracy = accuracy_score(y_test_mini, pred)\n",
        "        print(\"K = \" + str(k)+\" | Accuracy: \" + str(accuracy))\n",
        "\n",
        "if __name__ == \"__main__\":\n",
        "    main() "
      ],
      "execution_count": null,
      "outputs": [
        {
          "output_type": "stream",
          "name": "stdout",
          "text": [
            "X_train dataset shape: (60000, 784)\t| y_train dataset shape: (60000,)\n",
            "X_test dataset shape: (10000, 784)\t| y_test dataset shape: (10000,)\n",
            "\n",
            "Changed test dataset shape\n",
            "New X_test dataset shape: (10000, 784)\t| New y_test dataset shape: (10000,)\n",
            "K = 1 | Accuracy: 0.9691\n",
            "\n",
            "Changed test dataset shape\n",
            "New X_test dataset shape: (10000, 784)\t| New y_test dataset shape: (10000,)\n",
            "K = 3 | Accuracy: 0.9717\n"
          ]
        }
      ]
    }
  ]
}