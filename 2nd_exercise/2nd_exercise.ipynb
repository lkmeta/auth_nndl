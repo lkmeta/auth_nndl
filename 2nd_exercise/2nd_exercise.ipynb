{
  "cells": [
    {
      "cell_type": "code",
      "execution_count": null,
      "metadata": {
        "id": "0f-33HktbVOn"
      },
      "outputs": [],
      "source": [
        "# Import libraries\n",
        "import keras\n",
        "from keras.datasets import mnist\n",
        "import numpy as np\n",
        "import matplotlib.pyplot as plt\n",
        "import pandas as pd"
      ]
    },
    {
      "cell_type": "code",
      "execution_count": null,
      "metadata": {
        "colab": {
          "base_uri": "https://localhost:8080/"
        },
        "id": "mhskbETZbXAV",
        "outputId": "6c7cb228-6227-4098-d03e-99404d414dcd"
      },
      "outputs": [
        {
          "output_type": "stream",
          "name": "stdout",
          "text": [
            "Downloading data from https://storage.googleapis.com/tensorflow/tf-keras-datasets/mnist.npz\n",
            "11493376/11490434 [==============================] - 0s 0us/step\n",
            "11501568/11490434 [==============================] - 0s 0us/step\n",
            "(60000, 28, 28)\n",
            "(60000,)\n",
            "(10000, 28, 28)\n",
            "(10000,)\n"
          ]
        }
      ],
      "source": [
        "# Import datasets\n",
        "(x_train, y_train), (x_test, y_test) = keras.datasets.mnist.load_data()\n",
        "print(x_train.shape)\n",
        "print(y_train.shape)\n",
        "print(x_test.shape)\n",
        "print(y_test.shape)"
      ]
    },
    {
      "cell_type": "code",
      "execution_count": null,
      "metadata": {
        "colab": {
          "base_uri": "https://localhost:8080/"
        },
        "id": "T4thRtzMbYnK",
        "outputId": "433f736e-449b-499d-e11b-f9f709eb8acf"
      },
      "outputs": [
        {
          "output_type": "stream",
          "name": "stdout",
          "text": [
            "(60000, 784)\n",
            "(10000, 784)\n"
          ]
        }
      ],
      "source": [
        "# Reshape and normalize\n",
        "X_train = x_train.reshape(-1, 28*28)/255.0\n",
        "X_test = x_test.reshape(-1, 28*28)/255.0\n",
        "print(X_train.shape)\n",
        "print(X_test.shape)"
      ]
    },
    {
      "cell_type": "code",
      "execution_count": null,
      "metadata": {
        "id": "WvXni0PvbccI"
      },
      "outputs": [],
      "source": [
        "# Transform to Odd and Even the output layer\n",
        "y_train_transformed = y_train.copy()\n",
        "y_test_transformed = y_test.copy()\n",
        "for i in range(len(y_train)):\n",
        "  y_train_transformed[i] = y_train[i] % 2\n",
        "\n",
        "for i in range(len(y_test)):\n",
        "  y_test_transformed[i] = y_test[i] % 2"
      ]
    },
    {
      "cell_type": "code",
      "execution_count": null,
      "metadata": {
        "colab": {
          "base_uri": "https://localhost:8080/"
        },
        "id": "yVx6Hl6SjGU1",
        "outputId": "8ade8ece-34c3-4dea-d705-18961bdf7d48"
      },
      "outputs": [
        {
          "name": "stdout",
          "output_type": "stream",
          "text": [
            "Polynomial Kernel\n",
            "Confusion Matrix:\n",
            "[[4462  464]\n",
            " [  91 4983]]\n",
            "\n",
            "Classification report:\n",
            "              precision    recall  f1-score   support\n",
            "\n",
            "           0       0.98      0.91      0.94      4926\n",
            "           1       0.91      0.98      0.95      5074\n",
            "\n",
            "    accuracy                           0.94     10000\n",
            "   macro avg       0.95      0.94      0.94     10000\n",
            "weighted avg       0.95      0.94      0.94     10000\n",
            "\n"
          ]
        }
      ],
      "source": [
        "from sklearn.svm import SVC\n",
        "\n",
        "# Polynomial Kernel\n",
        "svclassifier = SVC(kernel='poly', degree=8)\n",
        "svclassifier.fit(X_train, y_train_transformed)\n",
        "\n",
        "y_pred_poly = svclassifier.predict(X_test)\n",
        "\n",
        "from sklearn.metrics import classification_report, confusion_matrix\n",
        "print(\"Polynomial Kernel\\nConfusion Matrix:\")\n",
        "print(confusion_matrix(y_test_transformed, y_pred_poly))\n",
        "print(\"\\nClassification report:\")\n",
        "print(classification_report(y_test_transformed, y_pred_poly))"
      ]
    },
    {
      "cell_type": "code",
      "execution_count": null,
      "metadata": {
        "colab": {
          "base_uri": "https://localhost:8080/"
        },
        "id": "mzaLPLPHjUFn",
        "outputId": "c3509478-8c1e-4585-8155-b9c2578d1350"
      },
      "outputs": [
        {
          "name": "stdout",
          "output_type": "stream",
          "text": [
            "Gaussian Kernel\n",
            "Confusion Matrix:\n",
            "[[4861   65]\n",
            " [  71 5003]]\n",
            "\n",
            "Classification report:\n",
            "              precision    recall  f1-score   support\n",
            "\n",
            "           0       0.99      0.99      0.99      4926\n",
            "           1       0.99      0.99      0.99      5074\n",
            "\n",
            "    accuracy                           0.99     10000\n",
            "   macro avg       0.99      0.99      0.99     10000\n",
            "weighted avg       0.99      0.99      0.99     10000\n",
            "\n"
          ]
        }
      ],
      "source": [
        "from sklearn.svm import SVC\n",
        "\n",
        "# Gaussian Kernel\n",
        "svclassifier = SVC(kernel='rbf')\n",
        "svclassifier.fit(X_train, y_train_transformed)\n",
        "\n",
        "y_pred_rbf = svclassifier.predict(X_test)\n",
        "\n",
        "from sklearn.metrics import classification_report, confusion_matrix\n",
        "print(\"Gaussian Kernel\\nConfusion Matrix:\")\n",
        "print(confusion_matrix(y_test_transformed, y_pred_rbf))\n",
        "print(\"\\nClassification report:\")\n",
        "print(classification_report(y_test_transformed, y_pred_rbf))"
      ]
    },
    {
      "cell_type": "code",
      "execution_count": null,
      "metadata": {
        "colab": {
          "base_uri": "https://localhost:8080/"
        },
        "id": "w8-cAQXTkHLV",
        "outputId": "4350f4ff-372d-40db-a148-8b3a8db7e913"
      },
      "outputs": [
        {
          "name": "stdout",
          "output_type": "stream",
          "text": [
            "Sigmoid Kernel\n",
            "Confusion Matrix:\n",
            "[[3404 1522]\n",
            " [1534 3540]]\n",
            "\n",
            "Classification report:\n",
            "              precision    recall  f1-score   support\n",
            "\n",
            "           0       0.69      0.69      0.69      4926\n",
            "           1       0.70      0.70      0.70      5074\n",
            "\n",
            "    accuracy                           0.69     10000\n",
            "   macro avg       0.69      0.69      0.69     10000\n",
            "weighted avg       0.69      0.69      0.69     10000\n",
            "\n"
          ]
        }
      ],
      "source": [
        "from sklearn.svm import SVC\n",
        "\n",
        "# Sigmoid Kernel\n",
        "svclassifier = SVC(kernel='sigmoid')\n",
        "svclassifier.fit(X_train, y_train_transformed)\n",
        "\n",
        "y_pred_sig = svclassifier.predict(X_test)\n",
        "\n",
        "from sklearn.metrics import classification_report, confusion_matrix\n",
        "print(\"Sigmoid Kernel\\nConfusion Matrix:\")\n",
        "print(confusion_matrix(y_test_transformed, y_pred_sig))\n",
        "print(\"\\nClassification report:\")\n",
        "print(classification_report(y_test_transformed, y_pred_sig))"
      ]
    },
    {
      "cell_type": "code",
      "source": [
        "# KNN model\n",
        "import numpy as np\n",
        "import operator \n",
        "from operator import itemgetter\n",
        "from sklearn.datasets import load_digits\n",
        "from sklearn.model_selection import train_test_split\n",
        "from sklearn.metrics import precision_recall_fscore_support\n",
        "from sklearn.metrics import accuracy_score\n",
        "from mnist import MNIST\n",
        "\n",
        "# The Euclidean Distance between two points\n",
        "def euc_dist(x1, x2):\n",
        "    return np.sqrt(np.sum((x1-x2)**2))\n",
        "\n",
        "# KNN class\n",
        "class KNN:\n",
        "    def __init__(self, K=3):\n",
        "        self.K = K\n",
        "    def fit(self, x_train, y_train):\n",
        "        self.X_train = x_train\n",
        "        self.Y_train = y_train\n",
        "\n",
        "    def predict(self, X_test):\n",
        "        predictions = [] \n",
        "        for i in range(len(X_test)):\n",
        "            dist = np.array([euc_dist(X_test[i], x_t) for x_t in   \n",
        "            self.X_train])\n",
        "            dist_sorted = dist.argsort()[:self.K]\n",
        "            neigh_count = {}\n",
        "            for idx in dist_sorted:\n",
        "                if self.Y_train[idx] in neigh_count:\n",
        "                    neigh_count[self.Y_train[idx]] += 1\n",
        "                else:\n",
        "                    neigh_count[self.Y_train[idx]] = 1\n",
        "            sorted_neigh_count = sorted(neigh_count.items(),    \n",
        "            key = operator.itemgetter(1), reverse=True)\n",
        "            predictions.append(sorted_neigh_count[0][0]) \n",
        "        return predictions"
      ],
      "metadata": {
        "id": "k5S2HA81BvfU"
      },
      "execution_count": null,
      "outputs": []
    },
    {
      "cell_type": "code",
      "source": [
        "def main():\n",
        "\n",
        "    testDataRange = 2000\n",
        "\n",
        "    # train: X_train, y_train_transformed \n",
        "    # test: X_test, y_test_transformed\n",
        "\n",
        "    print(\"X_train dataset shape: \" + str(X_train.shape) + \"\\t| y_train dataset shape: \"  + str(y_train_transformed.shape))\n",
        "    print(\"X_test dataset shape: \" + str(X_test.shape) + \"\\t| y_test dataset shape: \"  + str(y_test_transformed.shape))\n",
        "\n",
        "    kVals = [1, 3]\n",
        "    for k in kVals:\n",
        "        model = KNN(K = k)\n",
        "        model.fit(X_train, y_train_transformed)\n",
        "        x_test_mini = X_test[0:testDataRange,:]\n",
        "        y_test_mini = y_test_transformed[0:testDataRange,]\n",
        "        print(\"\\nChanged test dataset shape\")\n",
        "        print(\"New X_test dataset shape: \" + str(x_test_mini.shape) + \"\\t| New y_test dataset shape: \"  + str(y_test_mini.shape))\n",
        "        pred = model.predict(x_test_mini)\n",
        "        accuracy = accuracy_score(y_test_mini, pred)\n",
        "        print(\"K = \" + str(k)+\" | Accuracy: \" + str(accuracy))\n",
        "\n",
        "if __name__ == \"__main__\":\n",
        "    main() "
      ],
      "metadata": {
        "colab": {
          "base_uri": "https://localhost:8080/"
        },
        "id": "xRtyf8IxDmxm",
        "outputId": "cc8c716f-ccf5-4ecd-8ca5-f0d214dc4ded"
      },
      "execution_count": null,
      "outputs": [
        {
          "output_type": "stream",
          "name": "stdout",
          "text": [
            "X_train dataset shape: (60000, 784)\t| y_train dataset shape: (60000,)\n",
            "X_test dataset shape: (10000, 784)\t| y_test dataset shape: (10000,)\n",
            "\n",
            "Changed test dataset shape\n",
            "New X_test dataset shape: (2000, 784)\t| New y_test dataset shape: (2000,)\n",
            "K = 1 | Accuracy: 0.981\n",
            "\n",
            "Changed test dataset shape\n",
            "New X_test dataset shape: (2000, 784)\t| New y_test dataset shape: (2000,)\n",
            "K = 3 | Accuracy: 0.9815\n"
          ]
        }
      ]
    },
    {
      "cell_type": "code",
      "source": [
        "# Nearest centroid model\n",
        "\n",
        "# Import libraries\n",
        "import keras\n",
        "from keras.datasets import mnist\n",
        "from numpy import mean\n",
        "from numpy import std\n",
        "from sklearn.datasets import make_classification\n",
        "from sklearn.model_selection import cross_val_score\n",
        "from sklearn.model_selection import RepeatedStratifiedKFold\n",
        "from sklearn.neighbors import NearestCentroid"
      ],
      "metadata": {
        "id": "8k3WiDFjeqc0"
      },
      "execution_count": null,
      "outputs": []
    },
    {
      "cell_type": "code",
      "source": [
        "metric_name = ['euclidean', 'manhattan']\n",
        "res_dict = {}\n",
        "for metric in metric_name:\n",
        "  # define model\n",
        "  model = NearestCentroid(metric=metric)\n",
        "\n",
        "  # define model evaluation method\n",
        "  cv = RepeatedStratifiedKFold(n_splits=60, n_repeats=5, random_state=1)\n",
        "\n",
        "  # evaluate model\n",
        "  scores = cross_val_score(model, X_train, y_train_transformed, scoring='accuracy', cv=cv, n_jobs=-1)\n",
        "\n",
        "  name = metric\n",
        "\n",
        "  # summarize result\n",
        "  print(\"Name: \" + name)\n",
        "  print('Mean Accuracy: %.3f (%.3f)' % (mean(scores), std(scores)))\n",
        "\n",
        "  res_dict[name] = mean(scores)"
      ],
      "metadata": {
        "colab": {
          "base_uri": "https://localhost:8080/"
        },
        "id": "PpkxEm0dla_1",
        "outputId": "24807336-c7ce-4f40-eb76-947a7a9369a2"
      },
      "execution_count": null,
      "outputs": [
        {
          "output_type": "stream",
          "name": "stdout",
          "text": [
            "Name: euclidean\n",
            "Mean Accuracy: 0.808 (0.012)\n",
            "Name: manhattan\n",
            "Mean Accuracy: 0.792 (0.012)\n"
          ]
        }
      ]
    },
    {
      "cell_type": "code",
      "source": [
        "# make predictions with a nearest centroid model on the test dataset\n",
        "from sklearn.datasets import make_classification\n",
        "from sklearn.neighbors import NearestCentroid\n",
        "from sklearn.metrics import classification_report\n",
        "\n",
        "X = X_train\n",
        "y = y_train_transformed\n",
        "y_test = y_test_transformed\n",
        "\n",
        "# define model\n",
        "model = NearestCentroid()\n",
        "\n",
        "# fit model\n",
        "model.fit(X, y)\n",
        "\n",
        "# make a prediction\n",
        "y_pred = model.predict(X_test)\n",
        "\n",
        "# Printing Accuracy on Training and Test sets\n",
        "print(f\"Training Set Score : {model.score(X, y) * 100} %\")\n",
        "print(f\"Test Set Score : {model.score(X_test, y_test) * 100} %\")\n",
        " \n",
        "# Printing classification report of classifier on the test set set data\n",
        "print(f\"Model Classification Report : \\n{classification_report(y_test, model.predict(X_test))}\")"
      ],
      "metadata": {
        "colab": {
          "base_uri": "https://localhost:8080/"
        },
        "id": "FMWlEs2Wop2N",
        "outputId": "ab15e0ac-25b9-48e9-de97-692568e0dc03"
      },
      "execution_count": null,
      "outputs": [
        {
          "output_type": "stream",
          "name": "stdout",
          "text": [
            "Training Set Score : 80.84666666666666 %\n",
            "Test Set Score : 80.25999999999999 %\n",
            "Model Classification Report : \n",
            "              precision    recall  f1-score   support\n",
            "\n",
            "           0       0.83      0.75      0.79      4926\n",
            "           1       0.78      0.85      0.81      5074\n",
            "\n",
            "    accuracy                           0.80     10000\n",
            "   macro avg       0.81      0.80      0.80     10000\n",
            "weighted avg       0.81      0.80      0.80     10000\n",
            "\n"
          ]
        }
      ]
    },
    {
      "cell_type": "code",
      "source": [
        "# SVM Model\n",
        "\n",
        "from sklearn import svm\n",
        "from sklearn.model_selection import GridSearchCV\n",
        "\n",
        "def svc_param_selection(X, y):\n",
        "    Cs = [0.1]\n",
        "    # gammas = [0.01, 0.1, 1]\n",
        "    kernels = ['linear', 'poly', 'rbf']\n",
        "    param_grid = {'kernel': kernels, 'C': Cs}\n",
        "    svc = svm.SVC(shrinking=True, random_state=50)\n",
        "    grid_search = GridSearchCV(svc, param_grid, verbose=2, cv=3, n_jobs=-1)  \n",
        "    grid_search.fit(X, y)\n",
        "    # grid_search.best_params_\n",
        "    return grid_search\n",
        "\n",
        "import pandas as pd\n",
        "\n",
        "grid_search = svc_param_selection(X_train, y_train_transformed)\n",
        "grid_search.best_params_\n",
        "pd.DataFrame(grid_search.cv_results_)"
      ],
      "metadata": {
        "colab": {
          "base_uri": "https://localhost:8080/",
          "height": 329
        },
        "id": "KIIhDUDbaCrj",
        "outputId": "acb76bd2-8fad-4206-87b7-1b0a7e195280"
      },
      "execution_count": null,
      "outputs": [
        {
          "metadata": {
            "tags": null
          },
          "name": "stdout",
          "output_type": "stream",
          "text": [
            "Fitting 3 folds for each of 3 candidates, totalling 9 fits\n"
          ]
        },
        {
          "metadata": {
            "tags": null
          },
          "name": "stderr",
          "output_type": "stream",
          "text": [
            "/usr/local/lib/python3.7/dist-packages/joblib/externals/loky/process_executor.py:705: UserWarning: A worker stopped while some jobs were given to the executor. This can be caused by a too short worker timeout or by a memory leak.\n",
            "  \"timeout or by a memory leak.\", UserWarning\n"
          ]
        },
        {
          "output_type": "execute_result",
          "data": {
            "text/html": [
              "\n",
              "  <div id=\"df-59cad9c3-be24-437f-8cb3-2b35dacb2f2d\">\n",
              "    <div class=\"colab-df-container\">\n",
              "      <div>\n",
              "<style scoped>\n",
              "    .dataframe tbody tr th:only-of-type {\n",
              "        vertical-align: middle;\n",
              "    }\n",
              "\n",
              "    .dataframe tbody tr th {\n",
              "        vertical-align: top;\n",
              "    }\n",
              "\n",
              "    .dataframe thead th {\n",
              "        text-align: right;\n",
              "    }\n",
              "</style>\n",
              "<table border=\"1\" class=\"dataframe\">\n",
              "  <thead>\n",
              "    <tr style=\"text-align: right;\">\n",
              "      <th></th>\n",
              "      <th>mean_fit_time</th>\n",
              "      <th>std_fit_time</th>\n",
              "      <th>mean_score_time</th>\n",
              "      <th>std_score_time</th>\n",
              "      <th>param_C</th>\n",
              "      <th>param_kernel</th>\n",
              "      <th>params</th>\n",
              "      <th>split0_test_score</th>\n",
              "      <th>split1_test_score</th>\n",
              "      <th>split2_test_score</th>\n",
              "      <th>mean_test_score</th>\n",
              "      <th>std_test_score</th>\n",
              "      <th>rank_test_score</th>\n",
              "    </tr>\n",
              "  </thead>\n",
              "  <tbody>\n",
              "    <tr>\n",
              "      <th>0</th>\n",
              "      <td>1109.509010</td>\n",
              "      <td>18.693400</td>\n",
              "      <td>218.005158</td>\n",
              "      <td>1.789816</td>\n",
              "      <td>0.1</td>\n",
              "      <td>linear</td>\n",
              "      <td>{'C': 0.1, 'kernel': 'linear'}</td>\n",
              "      <td>0.89690</td>\n",
              "      <td>0.89995</td>\n",
              "      <td>0.90415</td>\n",
              "      <td>0.900333</td>\n",
              "      <td>0.002972</td>\n",
              "      <td>3</td>\n",
              "    </tr>\n",
              "    <tr>\n",
              "      <th>1</th>\n",
              "      <td>480.971471</td>\n",
              "      <td>8.551070</td>\n",
              "      <td>207.550163</td>\n",
              "      <td>8.527606</td>\n",
              "      <td>0.1</td>\n",
              "      <td>poly</td>\n",
              "      <td>{'C': 0.1, 'kernel': 'poly'}</td>\n",
              "      <td>0.96715</td>\n",
              "      <td>0.96945</td>\n",
              "      <td>0.96760</td>\n",
              "      <td>0.968067</td>\n",
              "      <td>0.000995</td>\n",
              "      <td>1</td>\n",
              "    </tr>\n",
              "    <tr>\n",
              "      <th>2</th>\n",
              "      <td>518.584412</td>\n",
              "      <td>23.081724</td>\n",
              "      <td>276.153631</td>\n",
              "      <td>59.312760</td>\n",
              "      <td>0.1</td>\n",
              "      <td>rbf</td>\n",
              "      <td>{'C': 0.1, 'kernel': 'rbf'}</td>\n",
              "      <td>0.96685</td>\n",
              "      <td>0.96745</td>\n",
              "      <td>0.96660</td>\n",
              "      <td>0.966967</td>\n",
              "      <td>0.000357</td>\n",
              "      <td>2</td>\n",
              "    </tr>\n",
              "  </tbody>\n",
              "</table>\n",
              "</div>\n",
              "      <button class=\"colab-df-convert\" onclick=\"convertToInteractive('df-59cad9c3-be24-437f-8cb3-2b35dacb2f2d')\"\n",
              "              title=\"Convert this dataframe to an interactive table.\"\n",
              "              style=\"display:none;\">\n",
              "        \n",
              "  <svg xmlns=\"http://www.w3.org/2000/svg\" height=\"24px\"viewBox=\"0 0 24 24\"\n",
              "       width=\"24px\">\n",
              "    <path d=\"M0 0h24v24H0V0z\" fill=\"none\"/>\n",
              "    <path d=\"M18.56 5.44l.94 2.06.94-2.06 2.06-.94-2.06-.94-.94-2.06-.94 2.06-2.06.94zm-11 1L8.5 8.5l.94-2.06 2.06-.94-2.06-.94L8.5 2.5l-.94 2.06-2.06.94zm10 10l.94 2.06.94-2.06 2.06-.94-2.06-.94-.94-2.06-.94 2.06-2.06.94z\"/><path d=\"M17.41 7.96l-1.37-1.37c-.4-.4-.92-.59-1.43-.59-.52 0-1.04.2-1.43.59L10.3 9.45l-7.72 7.72c-.78.78-.78 2.05 0 2.83L4 21.41c.39.39.9.59 1.41.59.51 0 1.02-.2 1.41-.59l7.78-7.78 2.81-2.81c.8-.78.8-2.07 0-2.86zM5.41 20L4 18.59l7.72-7.72 1.47 1.35L5.41 20z\"/>\n",
              "  </svg>\n",
              "      </button>\n",
              "      \n",
              "  <style>\n",
              "    .colab-df-container {\n",
              "      display:flex;\n",
              "      flex-wrap:wrap;\n",
              "      gap: 12px;\n",
              "    }\n",
              "\n",
              "    .colab-df-convert {\n",
              "      background-color: #E8F0FE;\n",
              "      border: none;\n",
              "      border-radius: 50%;\n",
              "      cursor: pointer;\n",
              "      display: none;\n",
              "      fill: #1967D2;\n",
              "      height: 32px;\n",
              "      padding: 0 0 0 0;\n",
              "      width: 32px;\n",
              "    }\n",
              "\n",
              "    .colab-df-convert:hover {\n",
              "      background-color: #E2EBFA;\n",
              "      box-shadow: 0px 1px 2px rgba(60, 64, 67, 0.3), 0px 1px 3px 1px rgba(60, 64, 67, 0.15);\n",
              "      fill: #174EA6;\n",
              "    }\n",
              "\n",
              "    [theme=dark] .colab-df-convert {\n",
              "      background-color: #3B4455;\n",
              "      fill: #D2E3FC;\n",
              "    }\n",
              "\n",
              "    [theme=dark] .colab-df-convert:hover {\n",
              "      background-color: #434B5C;\n",
              "      box-shadow: 0px 1px 3px 1px rgba(0, 0, 0, 0.15);\n",
              "      filter: drop-shadow(0px 1px 2px rgba(0, 0, 0, 0.3));\n",
              "      fill: #FFFFFF;\n",
              "    }\n",
              "  </style>\n",
              "\n",
              "      <script>\n",
              "        const buttonEl =\n",
              "          document.querySelector('#df-59cad9c3-be24-437f-8cb3-2b35dacb2f2d button.colab-df-convert');\n",
              "        buttonEl.style.display =\n",
              "          google.colab.kernel.accessAllowed ? 'block' : 'none';\n",
              "\n",
              "        async function convertToInteractive(key) {\n",
              "          const element = document.querySelector('#df-59cad9c3-be24-437f-8cb3-2b35dacb2f2d');\n",
              "          const dataTable =\n",
              "            await google.colab.kernel.invokeFunction('convertToInteractive',\n",
              "                                                     [key], {});\n",
              "          if (!dataTable) return;\n",
              "\n",
              "          const docLinkHtml = 'Like what you see? Visit the ' +\n",
              "            '<a target=\"_blank\" href=https://colab.research.google.com/notebooks/data_table.ipynb>data table notebook</a>'\n",
              "            + ' to learn more about interactive tables.';\n",
              "          element.innerHTML = '';\n",
              "          dataTable['output_type'] = 'display_data';\n",
              "          await google.colab.output.renderOutput(dataTable, element);\n",
              "          const docLink = document.createElement('div');\n",
              "          docLink.innerHTML = docLinkHtml;\n",
              "          element.appendChild(docLink);\n",
              "        }\n",
              "      </script>\n",
              "    </div>\n",
              "  </div>\n",
              "  "
            ],
            "text/plain": [
              "   mean_fit_time  std_fit_time  ...  std_test_score  rank_test_score\n",
              "0    1109.509010     18.693400  ...        0.002972                3\n",
              "1     480.971471      8.551070  ...        0.000995                1\n",
              "2     518.584412     23.081724  ...        0.000357                2\n",
              "\n",
              "[3 rows x 13 columns]"
            ]
          },
          "metadata": {},
          "execution_count": 6
        }
      ]
    },
    {
      "cell_type": "code",
      "execution_count": null,
      "metadata": {
        "colab": {
          "base_uri": "https://localhost:8080/",
          "height": 364
        },
        "id": "C7KNvEsaZQto",
        "outputId": "ba0419a0-e138-473a-8462-3e52255ce9bb"
      },
      "outputs": [
        {
          "output_type": "stream",
          "name": "stdout",
          "text": [
            "Fitting 3 folds for each of 3 candidates, totalling 9 fits\n",
            "{'C': 1, 'kernel': 'rbf'}\n",
            "{'C': 1, 'kernel': 'rbf'}\n"
          ]
        },
        {
          "output_type": "execute_result",
          "data": {
            "text/html": [
              "\n",
              "  <div id=\"df-e246d3c1-84fc-4cb5-94f1-7dad809852f4\">\n",
              "    <div class=\"colab-df-container\">\n",
              "      <div>\n",
              "<style scoped>\n",
              "    .dataframe tbody tr th:only-of-type {\n",
              "        vertical-align: middle;\n",
              "    }\n",
              "\n",
              "    .dataframe tbody tr th {\n",
              "        vertical-align: top;\n",
              "    }\n",
              "\n",
              "    .dataframe thead th {\n",
              "        text-align: right;\n",
              "    }\n",
              "</style>\n",
              "<table border=\"1\" class=\"dataframe\">\n",
              "  <thead>\n",
              "    <tr style=\"text-align: right;\">\n",
              "      <th></th>\n",
              "      <th>mean_fit_time</th>\n",
              "      <th>std_fit_time</th>\n",
              "      <th>mean_score_time</th>\n",
              "      <th>std_score_time</th>\n",
              "      <th>param_C</th>\n",
              "      <th>param_kernel</th>\n",
              "      <th>params</th>\n",
              "      <th>split0_test_score</th>\n",
              "      <th>split1_test_score</th>\n",
              "      <th>split2_test_score</th>\n",
              "      <th>mean_test_score</th>\n",
              "      <th>std_test_score</th>\n",
              "      <th>rank_test_score</th>\n",
              "    </tr>\n",
              "  </thead>\n",
              "  <tbody>\n",
              "    <tr>\n",
              "      <th>0</th>\n",
              "      <td>5087.442578</td>\n",
              "      <td>403.196876</td>\n",
              "      <td>172.266445</td>\n",
              "      <td>43.128345</td>\n",
              "      <td>1</td>\n",
              "      <td>linear</td>\n",
              "      <td>{'C': 1, 'kernel': 'linear'}</td>\n",
              "      <td>0.89735</td>\n",
              "      <td>0.90055</td>\n",
              "      <td>0.90405</td>\n",
              "      <td>0.900650</td>\n",
              "      <td>0.002736</td>\n",
              "      <td>3</td>\n",
              "    </tr>\n",
              "    <tr>\n",
              "      <th>1</th>\n",
              "      <td>396.389390</td>\n",
              "      <td>4.081429</td>\n",
              "      <td>101.889788</td>\n",
              "      <td>3.595694</td>\n",
              "      <td>1</td>\n",
              "      <td>poly</td>\n",
              "      <td>{'C': 1, 'kernel': 'poly'}</td>\n",
              "      <td>0.98240</td>\n",
              "      <td>0.98330</td>\n",
              "      <td>0.98145</td>\n",
              "      <td>0.982383</td>\n",
              "      <td>0.000755</td>\n",
              "      <td>2</td>\n",
              "    </tr>\n",
              "    <tr>\n",
              "      <th>2</th>\n",
              "      <td>413.289100</td>\n",
              "      <td>5.601927</td>\n",
              "      <td>153.390376</td>\n",
              "      <td>0.685545</td>\n",
              "      <td>1</td>\n",
              "      <td>rbf</td>\n",
              "      <td>{'C': 1, 'kernel': 'rbf'}</td>\n",
              "      <td>0.98380</td>\n",
              "      <td>0.98340</td>\n",
              "      <td>0.98240</td>\n",
              "      <td>0.983200</td>\n",
              "      <td>0.000589</td>\n",
              "      <td>1</td>\n",
              "    </tr>\n",
              "  </tbody>\n",
              "</table>\n",
              "</div>\n",
              "      <button class=\"colab-df-convert\" onclick=\"convertToInteractive('df-e246d3c1-84fc-4cb5-94f1-7dad809852f4')\"\n",
              "              title=\"Convert this dataframe to an interactive table.\"\n",
              "              style=\"display:none;\">\n",
              "        \n",
              "  <svg xmlns=\"http://www.w3.org/2000/svg\" height=\"24px\"viewBox=\"0 0 24 24\"\n",
              "       width=\"24px\">\n",
              "    <path d=\"M0 0h24v24H0V0z\" fill=\"none\"/>\n",
              "    <path d=\"M18.56 5.44l.94 2.06.94-2.06 2.06-.94-2.06-.94-.94-2.06-.94 2.06-2.06.94zm-11 1L8.5 8.5l.94-2.06 2.06-.94-2.06-.94L8.5 2.5l-.94 2.06-2.06.94zm10 10l.94 2.06.94-2.06 2.06-.94-2.06-.94-.94-2.06-.94 2.06-2.06.94z\"/><path d=\"M17.41 7.96l-1.37-1.37c-.4-.4-.92-.59-1.43-.59-.52 0-1.04.2-1.43.59L10.3 9.45l-7.72 7.72c-.78.78-.78 2.05 0 2.83L4 21.41c.39.39.9.59 1.41.59.51 0 1.02-.2 1.41-.59l7.78-7.78 2.81-2.81c.8-.78.8-2.07 0-2.86zM5.41 20L4 18.59l7.72-7.72 1.47 1.35L5.41 20z\"/>\n",
              "  </svg>\n",
              "      </button>\n",
              "      \n",
              "  <style>\n",
              "    .colab-df-container {\n",
              "      display:flex;\n",
              "      flex-wrap:wrap;\n",
              "      gap: 12px;\n",
              "    }\n",
              "\n",
              "    .colab-df-convert {\n",
              "      background-color: #E8F0FE;\n",
              "      border: none;\n",
              "      border-radius: 50%;\n",
              "      cursor: pointer;\n",
              "      display: none;\n",
              "      fill: #1967D2;\n",
              "      height: 32px;\n",
              "      padding: 0 0 0 0;\n",
              "      width: 32px;\n",
              "    }\n",
              "\n",
              "    .colab-df-convert:hover {\n",
              "      background-color: #E2EBFA;\n",
              "      box-shadow: 0px 1px 2px rgba(60, 64, 67, 0.3), 0px 1px 3px 1px rgba(60, 64, 67, 0.15);\n",
              "      fill: #174EA6;\n",
              "    }\n",
              "\n",
              "    [theme=dark] .colab-df-convert {\n",
              "      background-color: #3B4455;\n",
              "      fill: #D2E3FC;\n",
              "    }\n",
              "\n",
              "    [theme=dark] .colab-df-convert:hover {\n",
              "      background-color: #434B5C;\n",
              "      box-shadow: 0px 1px 3px 1px rgba(0, 0, 0, 0.15);\n",
              "      filter: drop-shadow(0px 1px 2px rgba(0, 0, 0, 0.3));\n",
              "      fill: #FFFFFF;\n",
              "    }\n",
              "  </style>\n",
              "\n",
              "      <script>\n",
              "        const buttonEl =\n",
              "          document.querySelector('#df-e246d3c1-84fc-4cb5-94f1-7dad809852f4 button.colab-df-convert');\n",
              "        buttonEl.style.display =\n",
              "          google.colab.kernel.accessAllowed ? 'block' : 'none';\n",
              "\n",
              "        async function convertToInteractive(key) {\n",
              "          const element = document.querySelector('#df-e246d3c1-84fc-4cb5-94f1-7dad809852f4');\n",
              "          const dataTable =\n",
              "            await google.colab.kernel.invokeFunction('convertToInteractive',\n",
              "                                                     [key], {});\n",
              "          if (!dataTable) return;\n",
              "\n",
              "          const docLinkHtml = 'Like what you see? Visit the ' +\n",
              "            '<a target=\"_blank\" href=https://colab.research.google.com/notebooks/data_table.ipynb>data table notebook</a>'\n",
              "            + ' to learn more about interactive tables.';\n",
              "          element.innerHTML = '';\n",
              "          dataTable['output_type'] = 'display_data';\n",
              "          await google.colab.output.renderOutput(dataTable, element);\n",
              "          const docLink = document.createElement('div');\n",
              "          docLink.innerHTML = docLinkHtml;\n",
              "          element.appendChild(docLink);\n",
              "        }\n",
              "      </script>\n",
              "    </div>\n",
              "  </div>\n",
              "  "
            ],
            "text/plain": [
              "   mean_fit_time  std_fit_time  ...  std_test_score  rank_test_score\n",
              "0    5087.442578    403.196876  ...        0.002736                3\n",
              "1     396.389390      4.081429  ...        0.000755                2\n",
              "2     413.289100      5.601927  ...        0.000589                1\n",
              "\n",
              "[3 rows x 13 columns]"
            ]
          },
          "metadata": {},
          "execution_count": 6
        }
      ],
      "source": [
        "from sklearn import svm\n",
        "from sklearn.model_selection import GridSearchCV\n",
        "\n",
        "def svc_param_selection(X, y):\n",
        "    Cs = [1]\n",
        "    # gammas = [0.01, 0.1, 1]\n",
        "    kernels = ['linear', 'poly', 'rbf']\n",
        "    param_grid = {'kernel': kernels, 'C': Cs}\n",
        "    svc = svm.SVC(shrinking=True, random_state=50)\n",
        "    grid_search = GridSearchCV(svc, param_grid, verbose=2, cv=3, n_jobs=-1)  \n",
        "    grid_search.fit(X, y)\n",
        "    print(grid_search.best_params_)\n",
        "    return grid_search\n",
        "\n",
        "import pandas as pd\n",
        "\n",
        "grid_search = svc_param_selection(X_train, y_train_transformed)\n",
        "print(grid_search.best_params_)\n",
        "pd.DataFrame(grid_search.cv_results_)"
      ]
    },
    {
      "cell_type": "code",
      "execution_count": null,
      "metadata": {
        "colab": {
          "base_uri": "https://localhost:8080/"
        },
        "id": "1oHyDyfH6Jaa",
        "outputId": "3aea42ad-db0c-4242-c8ce-601f21012fab"
      },
      "outputs": [
        {
          "name": "stdout",
          "output_type": "stream",
          "text": [
            "Fitting 3 folds for each of 2 candidates, totalling 6 fits\n",
            "[CV] END ..................................C=10, kernel=poly; total time=18.4min\n",
            "[CV] END ..................................C=10, kernel=poly; total time=19.1min\n",
            "[CV] END ..................................C=10, kernel=poly; total time=19.5min\n",
            "[CV] END ...................................C=10, kernel=rbf; total time=23.8min\n",
            "[CV] END ...................................C=10, kernel=rbf; total time=14.0min\n",
            "[CV] END ...................................C=10, kernel=rbf; total time=13.4min\n"
          ]
        },
        {
          "data": {
            "text/html": [
              "<div>\n",
              "<style scoped>\n",
              "    .dataframe tbody tr th:only-of-type {\n",
              "        vertical-align: middle;\n",
              "    }\n",
              "\n",
              "    .dataframe tbody tr th {\n",
              "        vertical-align: top;\n",
              "    }\n",
              "\n",
              "    .dataframe thead th {\n",
              "        text-align: right;\n",
              "    }\n",
              "</style>\n",
              "<table border=\"1\" class=\"dataframe\">\n",
              "  <thead>\n",
              "    <tr style=\"text-align: right;\">\n",
              "      <th></th>\n",
              "      <th>mean_fit_time</th>\n",
              "      <th>std_fit_time</th>\n",
              "      <th>mean_score_time</th>\n",
              "      <th>std_score_time</th>\n",
              "      <th>param_C</th>\n",
              "      <th>param_kernel</th>\n",
              "      <th>params</th>\n",
              "      <th>split0_test_score</th>\n",
              "      <th>split1_test_score</th>\n",
              "      <th>split2_test_score</th>\n",
              "      <th>mean_test_score</th>\n",
              "      <th>std_test_score</th>\n",
              "      <th>rank_test_score</th>\n",
              "    </tr>\n",
              "  </thead>\n",
              "  <tbody>\n",
              "    <tr>\n",
              "      <th>0</th>\n",
              "      <td>987.314135</td>\n",
              "      <td>30.631078</td>\n",
              "      <td>153.242518</td>\n",
              "      <td>13.667000</td>\n",
              "      <td>10</td>\n",
              "      <td>poly</td>\n",
              "      <td>{'C': 10, 'kernel': 'poly'}</td>\n",
              "      <td>0.98410</td>\n",
              "      <td>0.9850</td>\n",
              "      <td>0.98310</td>\n",
              "      <td>0.984067</td>\n",
              "      <td>0.000776</td>\n",
              "      <td>2</td>\n",
              "    </tr>\n",
              "    <tr>\n",
              "      <th>1</th>\n",
              "      <td>910.147821</td>\n",
              "      <td>256.057295</td>\n",
              "      <td>113.316875</td>\n",
              "      <td>30.261559</td>\n",
              "      <td>10</td>\n",
              "      <td>rbf</td>\n",
              "      <td>{'C': 10, 'kernel': 'rbf'}</td>\n",
              "      <td>0.98775</td>\n",
              "      <td>0.9875</td>\n",
              "      <td>0.98675</td>\n",
              "      <td>0.987333</td>\n",
              "      <td>0.000425</td>\n",
              "      <td>1</td>\n",
              "    </tr>\n",
              "  </tbody>\n",
              "</table>\n",
              "</div>"
            ],
            "text/plain": [
              "   mean_fit_time  std_fit_time  mean_score_time  std_score_time param_C  \\\n",
              "0     987.314135     30.631078       153.242518       13.667000      10   \n",
              "1     910.147821    256.057295       113.316875       30.261559      10   \n",
              "\n",
              "  param_kernel                       params  split0_test_score  \\\n",
              "0         poly  {'C': 10, 'kernel': 'poly'}            0.98410   \n",
              "1          rbf   {'C': 10, 'kernel': 'rbf'}            0.98775   \n",
              "\n",
              "   split1_test_score  split2_test_score  mean_test_score  std_test_score  \\\n",
              "0             0.9850            0.98310         0.984067        0.000776   \n",
              "1             0.9875            0.98675         0.987333        0.000425   \n",
              "\n",
              "   rank_test_score  \n",
              "0                2  \n",
              "1                1  "
            ]
          },
          "execution_count": 12,
          "metadata": {},
          "output_type": "execute_result"
        }
      ],
      "source": [
        "from sklearn import svm\n",
        "from sklearn.model_selection import GridSearchCV\n",
        "\n",
        "def svc_param_selection(X, y):\n",
        "    Cs = [10]\n",
        "    # gammas = [0.01, 0.1, 1]\n",
        "    kernels = ['poly', 'rbf']\n",
        "    param_grid = {'kernel': kernels, 'C': Cs}\n",
        "    svc = svm.SVC(shrinking=True, random_state=50)\n",
        "    grid_search = GridSearchCV(svc, param_grid, verbose=2, cv=3, n_jobs=-1)  \n",
        "    grid_search.fit(X, y)\n",
        "    # print(grid_search.best_params_)\n",
        "    return grid_search\n",
        "\n",
        "import pandas as pd\n",
        "\n",
        "grid_search = svc_param_selection(X_train, y_train_transformed)\n",
        "grid_search.best_params_\n",
        "pd.DataFrame(grid_search.cv_results_)"
      ]
    },
    {
      "cell_type": "code",
      "execution_count": null,
      "metadata": {
        "id": "g4W-S75KBPg_",
        "outputId": "d089843a-2977-4888-b9d1-25b545f5bd94"
      },
      "outputs": [
        {
          "name": "stdout",
          "output_type": "stream",
          "text": [
            "Fitting 3 folds for each of 1 candidates, totalling 3 fits\n"
          ]
        }
      ],
      "source": [
        "from sklearn import svm\n",
        "from sklearn.model_selection import GridSearchCV\n",
        "\n",
        "def svc_param_selection(X, y):\n",
        "    Cs = [10]\n",
        "    # gammas = [0.01, 0.1, 1]\n",
        "    kernels = ['linear']\n",
        "    param_grid = {'kernel': kernels, 'C': Cs}\n",
        "    svc = svm.SVC(shrinking=True, random_state=50)\n",
        "    grid_search = GridSearchCV(svc, param_grid, verbose=2, cv=3, n_jobs=-1)  \n",
        "    grid_search.fit(X, y)\n",
        "    # print(grid_search.best_params_)\n",
        "    return grid_search\n",
        "\n",
        "import pandas as pd\n",
        "\n",
        "grid_search = svc_param_selection(X_train, y_train_transformed)\n",
        "grid_search.best_params_\n",
        "pd.DataFrame(grid_search.cv_results_)"
      ]
    }
  ],
  "metadata": {
    "colab": {
      "collapsed_sections": [],
      "name": "2nd_exercise.ipynb",
      "provenance": []
    },
    "kernelspec": {
      "display_name": "Python 3",
      "name": "python3"
    },
    "language_info": {
      "name": "python"
    }
  },
  "nbformat": 4,
  "nbformat_minor": 0
}